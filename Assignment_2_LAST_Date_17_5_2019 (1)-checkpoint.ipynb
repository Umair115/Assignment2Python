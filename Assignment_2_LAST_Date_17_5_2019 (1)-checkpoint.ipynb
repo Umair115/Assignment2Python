{
 "cells": [
  {
   "cell_type": "markdown",
   "metadata": {},
   "source": [
    "# The ABC company has hired you as an intern on the coding team that creates e-commerce applications.  \n",
    "You must write a script that asks the user for a value. The value must be used as a whole number in a calculation, even if the user enters a decimal value. \n",
    "\n",
    "You need to write the code to meet the requirements."
   ]
  },
  {
   "cell_type": "code",
   "execution_count": 2,
   "metadata": {},
   "outputs": [
    {
     "name": "stdout",
     "output_type": "stream",
     "text": [
      "Enter Value4\n",
      "4\n"
     ]
    }
   ],
   "source": [
    "x = 0\n",
    "x = input(\"Enter Value\")\n",
    "if type(x) == float :\n",
    "    print(int(x))\n",
    "else :\n",
    "    print(x)\n"
   ]
  },
  {
   "cell_type": "code",
   "execution_count": null,
   "metadata": {},
   "outputs": [],
   "source": []
  },
  {
   "cell_type": "code",
   "execution_count": 4,
   "metadata": {},
   "outputs": [],
   "source": [
    "# You are creating a Python program that shows a congratulation message to employees on their service anniversary.\n",
    "#You need to calculate the number of years of service and print a congratulatory message. You should take the inputs from the users where necessary"
   ]
  },
  {
   "cell_type": "code",
   "execution_count": 5,
   "metadata": {},
   "outputs": [],
   "source": [
    "from datetime import date"
   ]
  },
  {
   "cell_type": "code",
   "execution_count": 6,
   "metadata": {},
   "outputs": [],
   "source": [
    "today = date.today()"
   ]
  },
  {
   "cell_type": "code",
   "execution_count": 7,
   "metadata": {},
   "outputs": [
    {
     "name": "stdout",
     "output_type": "stream",
     "text": [
      "2019-05-16\n",
      "Enter your Started Year2018\n",
      "Enter your Started Month5\n",
      "Enter your Started day16\n",
      "We have This Days of Experience!\n",
      "365 days, 0:00:00\n"
     ]
    }
   ],
   "source": [
    "print(today)\n",
    "startedyear = input(\"Enter your Started Year\")\n",
    "month = input(\"Enter your Started Month\")\n",
    "day = input(\"Enter your Started day\")\n",
    "initialDate = date(startedyear , month , day)\n",
    "serviceExperience =  today - initialDate\n",
    "print(\"We have This Days of Experience!\")\n",
    "print(serviceExperience)\n"
   ]
  },
  {
   "cell_type": "markdown",
   "metadata": {},
   "source": [
    "# Write a Python program to convert temperatures  from fahrenheit to celsius, \n",
    "#step 1: take \"fahrenheit Temperature\" from user in integer data type\n",
    "#step 2: apply formula that is       (  C = (5/9) * (fahrenheit_temperature - 32)  )\n",
    "#step 3: print step 2. "
   ]
  },
  {
   "cell_type": "code",
   "execution_count": 8,
   "metadata": {},
   "outputs": [
    {
     "name": "stdout",
     "output_type": "stream",
     "text": [
      "Enter Temperature99\n",
      "99\n"
     ]
    }
   ],
   "source": [
    "fahrenhiteTemp = 0\n",
    "fahrenhiteTemp = int(input(\"Enter Temperature\"))\n",
    "print(fahrenhiteTemp)"
   ]
  },
  {
   "cell_type": "code",
   "execution_count": 9,
   "metadata": {},
   "outputs": [],
   "source": [
    "c= (5) * (fahrenhiteTemp - 32) / 9\n",
    "    "
   ]
  },
  {
   "cell_type": "code",
   "execution_count": 10,
   "metadata": {},
   "outputs": [
    {
     "name": "stdout",
     "output_type": "stream",
     "text": [
      "37\n"
     ]
    }
   ],
   "source": [
    "print(c)"
   ]
  },
  {
   "cell_type": "markdown",
   "metadata": {},
   "source": [
    "<h3>assign a vlue to grade by checking the following conditions:: </h3>\n",
    "<h3>if % is greater then and equal to 90 and less then 100 grade is A+ </h3>\n",
    "<h3>if % is greater then and equal to 80 and less then 90 grade is A </h3>\n",
    "<h3>if % is greater then and equal to 70 and less then 80 grade is B </h3>\n",
    "<h3>if % is greater then and equal to 60 and less then 70 grade is C </h3>\n",
    "<h3>if % is less than 60 grade is FAIL </h3>\n"
   ]
  },
  {
   "cell_type": "code",
   "execution_count": 11,
   "metadata": {},
   "outputs": [
    {
     "name": "stdout",
     "output_type": "stream",
     "text": [
      "Enter Percentage :49\n",
      "grade is F\n"
     ]
    }
   ],
   "source": [
    "grade = ''\n",
    "percentage = input(\"Enter Percentage :\")\n",
    "if percentage <= 100 and percentage >= 90 :\n",
    "    grade = 'A+'\n",
    "    print(\"grade is \"+grade)\n",
    "    \n",
    "elif percentage <= 90 and percentage >= 80 : \n",
    "    grade = 'A'\n",
    "    print(\"grade is \"+grade)\n",
    "elif percentage <= 80 and percentage >= 70 : \n",
    "    grade = 'B'\n",
    "    print(\"grade is \"+grade)\n",
    "elif percentage <= 70 and percentage >= 60 : \n",
    "    grade = 'C'\n",
    "    print(\"grade is \"+grade)\n",
    "else :\n",
    "    grade = 'F'\n",
    "    print(\"grade is \"+grade)"
   ]
  },
  {
   "cell_type": "code",
   "execution_count": null,
   "metadata": {},
   "outputs": [],
   "source": []
  },
  {
   "cell_type": "code",
   "execution_count": null,
   "metadata": {},
   "outputs": [],
   "source": []
  },
  {
   "cell_type": "markdown",
   "metadata": {},
   "source": [
    "<h3>Print grade percentage and obtained marks</h3>"
   ]
  },
  {
   "cell_type": "code",
   "execution_count": 12,
   "metadata": {},
   "outputs": [
    {
     "name": "stdout",
     "output_type": "stream",
     "text": [
      "('F', 49)\n"
     ]
    }
   ],
   "source": [
    "print(grade,percentage)"
   ]
  },
  {
   "cell_type": "code",
   "execution_count": null,
   "metadata": {},
   "outputs": [],
   "source": []
  },
  {
   "cell_type": "code",
   "execution_count": null,
   "metadata": {},
   "outputs": [],
   "source": []
  }
 ],
 "metadata": {
  "kernelspec": {
   "display_name": "Python 2",
   "language": "python",
   "name": "python2"
  },
  "language_info": {
   "codemirror_mode": {
    "name": "ipython",
    "version": 2
   },
   "file_extension": ".py",
   "mimetype": "text/x-python",
   "name": "python",
   "nbconvert_exporter": "python",
   "pygments_lexer": "ipython2",
   "version": "2.7.16"
  }
 },
 "nbformat": 4,
 "nbformat_minor": 2
}
